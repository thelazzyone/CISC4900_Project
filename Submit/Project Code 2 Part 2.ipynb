{
 "cells": [
  {
   "cell_type": "code",
   "execution_count": 1,
   "metadata": {},
   "outputs": [
    {
     "name": "stdout",
     "output_type": "stream",
     "text": [
      "['CISC 4900 First Interim Report - Eddie Lam.pdf', 'DataSet_V4.csv', 'EditingDataset_V3.java', 'featMat.csv', 'featMatVersion2_10.csv', 'featMatVersion2_8.csv', 'featMatVersion2_9.csv', 'features', 'Old Code', 'Old dataset', 'Project Code 2 Part 1.ipynb', 'Project Code 2 Part 2.ipynb', 'Touchalytics-ProjectDef.pdf']\n"
     ]
    }
   ],
   "source": [
    "import numpy as np # linear algebra\n",
    "import pandas as pd # data processing, CSV file I/O (e.g. pd.read_csv)\n",
    "import tensorflow as tf\n",
    "\n",
    "import sys\n",
    "\n",
    "'''\n",
    "Combined 2 rows into 1 by taking the previous one.\n",
    "Made sure that both rows are from the same users.\n",
    "\n",
    "User_ID1,Doc_ID1,Inter-Stroke time1,Stroke Duration1,Start X1,Start Y1,Stop X1,Stop Y1,Direct end-to-end Distance1,\n",
    "Mean resulant length1,WSAD Flag1,Direction of end-to-end Time1,Phone_ID1,20 per pairwise velocity1,50 per pairwise velocity1,\n",
    "80 per pairwise velocity1,20 per pairwise acc1,50 per pairwise acc1,80 per pairwise acc1,Median velocity at last 3pts1,\n",
    "Largest deviation from end-to-end line1,20 per dev line1,50 per dev line1,80 per dev line1,Average Direction1,\n",
    "Length of Trajectory1,Ratio dist and length of trajectory1,Average velocity1,Median acceleration at first 5 pts1,\n",
    "Mid-Stroke pressure1,Mid-Stroke area covered1,Mid-Stroke finger orientation1,Change of finger orientation1,\n",
    "Phone orientation1\n",
    "\n",
    "User_ID2,Doc_ID2,Inter-Stroke time2,Stroke Duration2,Start X2,Start Y2,Stop X2,Stop Y2,Direct end-to-end Distance2,\n",
    "Mean resulant length2,WSAD Flag2,Direction of end-to-end Time2,Phone_ID2,20 per pairwise velocity2,50 per pairwise velocity2,\n",
    "80 per pairwise velocity2,20 per pairwise acc2,50 per pairwise acc2,80 per pairwise acc2,Median velocity at last 3pts2,\n",
    "Largest deviation from end-to-end line2,20 per dev line2,50 per dev line2,80 per dev line2,Average Direction2,\n",
    "Length of Trajectory2,Ratio dist and length of trajectory2,Average velocity2,Median acceleration at first 5 pts2,\n",
    "Mid-Stroke pressure2,Mid-Stroke area covered2,Mid-Stroke finger orientation2,Change of finger orientation2,\n",
    "Phone orientation2\n",
    "'''\n",
    "\n",
    "import os\n",
    "#print(os.listdir(r\"C:\\Users\\eddie\\OneDrive\\Desktop\\CISC 4900\"))         #print out what's in the file/directory\n",
    "#train = pd.read_csv(r\"C:\\Users\\eddie\\OneDrive\\Desktop\\CISC 4900\\Dataset_V4.csv\")         #using the combined dataset\n",
    "\n",
    "print(os.listdir(r\".\"))         #print out what's in the file/directory\n",
    "train = pd.read_csv(r\"Dataset_V4.csv\")         #using test"
   ]
  },
  {
   "cell_type": "code",
   "execution_count": null,
   "metadata": {},
   "outputs": [],
   "source": [
    "#prints the amount of users in 'User_ID'\n",
    "train['User_ID1'].value_counts()"
   ]
  },
  {
   "cell_type": "code",
   "execution_count": 2,
   "metadata": {},
   "outputs": [
    {
     "data": {
      "text/plain": [
       "\"\\n 'Direct end-to-end Distance1', 'Largest deviation from end-to-end line1', 'Average Direction1', \\n 'Median acceleration at first 5 pts1', 'Mid-Stroke finger orientation1', '20 per pairwise acc1', \\n \\n 'Direct end-to-end Distance2', 'Largest deviation from end-to-end line2', 'Average Direction2', \\n 'Median acceleration at first 5 pts2', 'Mid-Stroke finger orientation2', '20 per pairwise acc2', \\n\""
      ]
     },
     "execution_count": 2,
     "metadata": {},
     "output_type": "execute_result"
    }
   ],
   "source": [
    "#Choosing the columns for X\n",
    "#Not using 'User_ID', 'Doc_ID', or 'Phone_ID'\n",
    "X = train[['Inter-Stroke time1', 'Stroke Duration1', 'Start X1', 'Start Y1', 'Stop X1', 'Stop Y1', 'Mean resulant length1',\n",
    "           'WSAD Flag1', 'Direction of end-to-end Time1', '20 per pairwise velocity1', '50 per pairwise velocity1', \n",
    "           '80 per pairwise velocity1', '50 per pairwise acc1', '80 per pairwise acc1',\n",
    "           'Median velocity at last 3pts1', '20 per dev line1', '50 per dev line1', '80 per dev line1', \n",
    "           'Length of Trajectory1', 'Ratio dist and length of trajectory1', 'Average velocity1', 'Mid-Stroke pressure1', \n",
    "           'Mid-Stroke area covered1', 'Change of finger orientation1', 'Phone orientation1',\n",
    "           \n",
    "           'Inter-Stroke time2', 'Stroke Duration2', 'Start X2', 'Start Y2', 'Stop X2', 'Stop Y2', 'Mean resulant length2', \n",
    "           'WSAD Flag2', 'Direction of end-to-end Time2', '20 per pairwise velocity2', '50 per pairwise velocity2', \n",
    "           '80 per pairwise velocity2', '50 per pairwise acc2', '80 per pairwise acc2', \n",
    "           'Median velocity at last 3pts2', '20 per dev line2', '50 per dev line2', '80 per dev line2', \n",
    "           'Length of Trajectory2', 'Ratio dist and length of trajectory2', 'Average velocity2', 'Mid-Stroke pressure2', \n",
    "           'Mid-Stroke area covered2', 'Change of finger orientation2', 'Phone orientation2']].values\n",
    "\n",
    "#can't use some of them\n",
    "'''\n",
    " 'Direct end-to-end Distance1', 'Largest deviation from end-to-end line1', 'Average Direction1', \n",
    " 'Median acceleration at first 5 pts1', 'Mid-Stroke finger orientation1', '20 per pairwise acc1', \n",
    " \n",
    " 'Direct end-to-end Distance2', 'Largest deviation from end-to-end line2', 'Average Direction2', \n",
    " 'Median acceleration at first 5 pts2', 'Mid-Stroke finger orientation2', '20 per pairwise acc2', \n",
    "'''"
   ]
  },
  {
   "cell_type": "code",
   "execution_count": 3,
   "metadata": {},
   "outputs": [],
   "source": [
    "#Choosing the lables for y\n",
    "y = train['User_ID1'].values"
   ]
  },
  {
   "cell_type": "code",
   "execution_count": 4,
   "metadata": {},
   "outputs": [],
   "source": [
    "#Train and test split\n",
    "#80% train, 20% test\n",
    "#splitting the data into test and train dataset\n",
    "\n",
    "from sklearn.model_selection import train_test_split\n",
    "X_train, X_test, y_train, y_test = train_test_split(X, y, test_size=0.20)"
   ]
  },
  {
   "cell_type": "code",
   "execution_count": 5,
   "metadata": {},
   "outputs": [],
   "source": [
    "#Feature Scaling\n",
    "from sklearn.preprocessing import StandardScaler\n",
    "scaler = StandardScaler()\n",
    "scaler.fit(X_train)\n",
    "\n",
    "X_train = scaler.transform(X_train)\n",
    "X_test = scaler.transform(X_test)"
   ]
  },
  {
   "cell_type": "code",
   "execution_count": 6,
   "metadata": {},
   "outputs": [
    {
     "data": {
      "text/plain": [
       "KNeighborsClassifier(algorithm='auto', leaf_size=30, metric='minkowski',\n",
       "                     metric_params=None, n_jobs=None, n_neighbors=5, p=2,\n",
       "                     weights='uniform')"
      ]
     },
     "execution_count": 6,
     "metadata": {},
     "output_type": "execute_result"
    }
   ],
   "source": [
    "#Training and Prediction\n",
    "from sklearn.neighbors import KNeighborsClassifier\n",
    "classifier = KNeighborsClassifier(n_neighbors=5)         #value for k\n",
    "classifier.fit(X_train, y_train)"
   ]
  },
  {
   "cell_type": "code",
   "execution_count": 7,
   "metadata": {},
   "outputs": [],
   "source": [
    "#Make prediction on the test data\n",
    "y_pred = classifier.predict(X_test)"
   ]
  },
  {
   "cell_type": "code",
   "execution_count": 8,
   "metadata": {},
   "outputs": [
    {
     "name": "stdout",
     "output_type": "stream",
     "text": [
      "[[ 63   1   1 ...   0   0   0]\n",
      " [  3 194   0 ...   0   2   0]\n",
      " [  0   1  68 ...   1   0   0]\n",
      " ...\n",
      " [  1   3   1 ...  41   0   0]\n",
      " [  0   0   4 ...   0  42   0]\n",
      " [  1   0   0 ...   0   0  31]]\n",
      "              precision    recall  f1-score   support\n",
      "\n",
      "           1       0.73      0.68      0.70        93\n",
      "           2       0.66      0.84      0.74       230\n",
      "           3       0.51      0.47      0.49       144\n",
      "           4       0.67      0.75      0.71        52\n",
      "           5       0.40      0.57      0.47        77\n",
      "           6       0.63      0.68      0.65       116\n",
      "           7       0.65      0.60      0.62       117\n",
      "           8       0.50      0.71      0.59       106\n",
      "           9       0.79      0.80      0.80       106\n",
      "          10       0.79      0.58      0.67        90\n",
      "          11       0.67      0.73      0.70        90\n",
      "          12       0.68      0.87      0.76        70\n",
      "          13       0.41      0.41      0.41        58\n",
      "          14       0.56      0.85      0.68       117\n",
      "          15       0.62      0.71      0.66       141\n",
      "          16       0.52      0.55      0.54        69\n",
      "          17       0.62      0.64      0.63       128\n",
      "          18       0.70      0.69      0.69        87\n",
      "          19       0.63      0.61      0.62        59\n",
      "          20       0.62      0.85      0.71        72\n",
      "          21       0.80      0.76      0.78       141\n",
      "          22       0.61      0.56      0.58        81\n",
      "          23       0.69      0.80      0.74       200\n",
      "          24       0.61      0.63      0.62        90\n",
      "          25       0.89      0.46      0.61       102\n",
      "          26       0.71      0.56      0.63        57\n",
      "          27       0.74      0.47      0.57       122\n",
      "          28       0.66      0.53      0.59       148\n",
      "          29       0.69      0.50      0.58        80\n",
      "          30       0.58      0.24      0.34        46\n",
      "          31       0.67      0.58      0.62        79\n",
      "          32       0.71      0.76      0.73        58\n",
      "          33       0.90      0.58      0.70       148\n",
      "          34       0.93      0.93      0.93       116\n",
      "          35       0.66      0.78      0.72       190\n",
      "          36       0.79      0.68      0.73        93\n",
      "          37       0.70      0.64      0.67        95\n",
      "          38       0.70      0.63      0.66       167\n",
      "          39       0.66      0.50      0.57        82\n",
      "          40       0.61      0.63      0.62        67\n",
      "          41       0.86      0.78      0.82        40\n",
      "\n",
      "    accuracy                           0.66      4224\n",
      "   macro avg       0.67      0.65      0.65      4224\n",
      "weighted avg       0.68      0.66      0.66      4224\n",
      "\n"
     ]
    }
   ],
   "source": [
    "#Evaluating the Algorithm\n",
    "from sklearn.metrics import classification_report, confusion_matrix\n",
    "print(confusion_matrix(y_test, y_pred))\n",
    "print(classification_report(y_test, y_pred))"
   ]
  },
  {
   "cell_type": "code",
   "execution_count": 9,
   "metadata": {},
   "outputs": [
    {
     "name": "stdout",
     "output_type": "stream",
     "text": [
      "[[ 63   1   1   6   0   0   3   0   0   0   0   0   0   1   1   0   0   0\n",
      "    0   1   0   2   0   1   1   0   0   3   2   1   1   0   3   2   0   0\n",
      "    0   0   0   0   0]\n",
      " [  3 194   0   0   0   0   0   2   1   0   0   0   1   1   1   0   0   0\n",
      "    0   1   0   0   4   2   1   2   0   1   0   0   0   0   0   1   0   2\n",
      "    0  11   0   2   0]\n",
      " [  0   1  68   0   5   3   1   4   0   0   3   0   1   0   0   3  22   5\n",
      "    1   0   2   0   0   0   1   0   2   0   0   0   0   0   1   0  18   0\n",
      "    2   0   1   0   0]\n",
      " [  1   0   0  39   1   0   2   0   0   0   0   0   0   1   0   0   0   0\n",
      "    0   1   0   1   0   0   0   1   0   1   0   1   0   0   0   2   0   0\n",
      "    0   0   1   0   0]\n",
      " [  0   0   4   0  44   3   0   7   2   0   0   3   1   0   0   1   0   0\n",
      "    3   0   0   0   0   2   0   0   2   0   0   0   0   4   0   0   1   0\n",
      "    0   0   0   0   0]\n",
      " [  0   3   4   0   0  79   0   4   0   1   0   0   2   0   0   6   3   0\n",
      "    0   0   2   0   1   1   0   1   1   0   0   0   0   0   0   0   5   0\n",
      "    2   0   0   1   0]\n",
      " [  4   4   0   2   0   0  70   0   0   0   0   0   0   0   6   0   0   0\n",
      "    0   2   0   7   2   4   0   1   0   6   1   3   0   0   0   0   0   0\n",
      "    0   2   3   0   0]\n",
      " [  0   2   2   0   6   0   0  75   0   0   0   0   0   2   1   0   1   0\n",
      "    1   0   0   1   1   0   0   0   2   0   0   0   0   0   0   0   3   0\n",
      "    2   0   0   7   0]\n",
      " [  0   1   2   0   4   0   0   1  85   0   1   0   1   0   0   0   0   0\n",
      "    0   0   0   0   2   0   1   0   0   0   0   0   0   0   0   0   0   0\n",
      "    0   3   0   5   0]\n",
      " [  0   0   3   0   4   2   1   2   0  52   3   0   1   0   0   5   1   4\n",
      "    4   0   3   0   0   0   0   0   0   0   0   0   0   2   0   0   2   0\n",
      "    0   1   0   0   0]\n",
      " [  0   0   1   0   1   2   0   0   0   2  66   0   2   0   0   0   0   5\n",
      "    2   0   4   0   1   0   0   0   0   0   0   0   0   0   0   0   4   0\n",
      "    0   0   0   0   0]\n",
      " [  0   0   0   0   1   0   0   3   0   0   0  61   0   0   0   0   0   0\n",
      "    1   1   0   0   0   0   0   0   0   0   0   0   0   0   0   0   1   0\n",
      "    0   0   0   2   0]\n",
      " [  0   1   3   0   2   3   0   0   0   0   0   0  24   0   2   3   6   0\n",
      "    1   1   0   0   0   0   0   0   0   0   0   0   0   1   1   0   1   0\n",
      "    7   0   0   2   0]\n",
      " [  1   1   0   0   0   0   0   2   0   0   0   0   0 100   3   0   0   0\n",
      "    0   0   0   0   2   0   0   0   0   0   2   0   6   0   0   0   0   0\n",
      "    0   0   0   0   0]\n",
      " [  0   5   0   0   1   1   0   3   2   0   1   0   1   3 100   0   0   0\n",
      "    0   0   1   0  13   0   0   0   0   1   1   0   2   0   2   0   0   3\n",
      "    0   1   0   0   0]\n",
      " [  0   0   2   0   3   1   0   1   0   2   5   0   2   1   0  38   1   1\n",
      "    3   0   1   0   0   0   0   0   2   0   0   0   0   2   0   0   2   0\n",
      "    1   0   0   1   0]\n",
      " [  0   0   5   0   0   3   0   3   0   2   0   1   6   0   0   6  82   4\n",
      "    0   0   0   0   1   0   0   0   0   0   0   0   0   0   1   0  12   0\n",
      "    2   0   0   0   0]\n",
      " [  0   0   3   0   0   0   0   0   1   2   4   2   0   0   0   0   2  60\n",
      "    1   0   3   0   0   0   0   0   2   1   0   0   0   0   0   0   2   0\n",
      "    0   0   1   3   0]\n",
      " [  0   0   4   1   2   3   0   4   0   0   0   2   0   0   0   0   0   1\n",
      "   36   0   1   1   1   0   0   0   0   0   0   0   0   0   0   0   1   0\n",
      "    1   0   0   1   0]\n",
      " [  1   3   0   0   0   0   1   0   0   0   0   0   0   0   0   0   0   0\n",
      "    0  61   0   1   0   1   0   0   0   2   0   0   0   0   0   0   0   0\n",
      "    0   0   1   0   1]\n",
      " [  0   0   5   0   1   2   0   1   0   1   7   1   0   0   0   1   3   2\n",
      "    0   0 107   0   0   0   0   0   1   0   0   0   0   0   0   0   7   0\n",
      "    1   0   0   1   0]\n",
      " [  0   5   1   1   2   0   7   2   0   0   1   0   0   0   2   0   1   0\n",
      "    0   3   0  45   1   3   1   0   0   2   0   0   0   0   0   0   0   0\n",
      "    0   3   1   0   0]\n",
      " [  1   9   0   0   2   1   0   1   1   0   0   0   1   2  17   0   0   0\n",
      "    0   1   0   0 159   0   0   1   0   1   0   0   2   0   0   0   0   1\n",
      "    0   0   0   0   0]\n",
      " [  0   4   1   1   2   2   1   0   0   0   0   5   0   0   2   0   0   0\n",
      "    1   1   0   0   9  57   0   0   0   1   0   0   1   0   0   0   0   0\n",
      "    2   0   0   0   0]\n",
      " [  1   9   0   0   1   0   0   0   2   0   0   1   4   0   0   0   2   0\n",
      "    0   9   3   0   0   0  47   3   0   8   0   0   0   1   0   1   1   0\n",
      "    0   6   0   0   3]\n",
      " [  0   1   0   1   0   1   3   0   1   0   0   0   0   0   0   0   0   0\n",
      "    0   0   0   1   3   1   0  32   0   2   0   2   0   0   0   0   3   1\n",
      "    0   4   1   0   0]\n",
      " [  0   2   4   0   1  15   0   8   2   2   1   1   1   0   1   5   7   2\n",
      "    0   0   2   0   0   0   0   0  57   0   0   0   0   4   0   0   5   0\n",
      "    1   1   0   0   0]\n",
      " [  5  26   1   0   3   1   4   1   0   0   0   0   0   1   3   0   0   0\n",
      "    0   4   0   3   3   6   0   1   0  78   0   0   0   0   0   1   2   0\n",
      "    0   2   3   0   0]\n",
      " [  0   1   0   0   3   0   0   1   0   0   0   1   1  20   0   0   0   0\n",
      "    0   1   0   0   2   0   0   0   0   0  40   0   1   0   0   0   0   7\n",
      "    0   1   0   1   0]\n",
      " [  2   0   0   4   4   0   4   0   0   0   0   0   0   0   0   0   0   0\n",
      "    0   1   1   6   1   1   0   3   1   2   0  11   0   1   0   0   0   0\n",
      "    0   2   2   0   0]\n",
      " [  0   1   0   0   2   0   0   1   0   0   0   0   0  26   1   0   0   0\n",
      "    0   0   0   0   1   0   0   0   0   0   0   0  46   0   1   0   0   0\n",
      "    0   0   0   0   0]\n",
      " [  0   0   3   0   2   0   0   2   0   0   0   2   0   0   0   0   0   0\n",
      "    2   0   0   0   0   0   0   0   2   0   0   0   0  44   0   0   0   0\n",
      "    0   0   1   0   0]\n",
      " [  1   2   2   0   0   1   0   5   0   1   1   2   0  15   3   0   0   0\n",
      "    0   0   0   0   4   0   0   0   0   2   9   1   9   0  86   0   0   3\n",
      "    0   1   0   0   0]\n",
      " [  1   0   0   0   0   0   1   0   0   0   0   0   0   0   2   1   0   0\n",
      "    0   0   0   0   0   0   0   0   0   0   0   0   0   0   0 108   0   0\n",
      "    1   0   2   0   0]\n",
      " [  0   0   6   1   2   2   0   2   0   0   4   0   0   1   0   4   2   2\n",
      "    1   0   4   0   0   0   0   0   5   0   0   0   0   0   0   0 149   0\n",
      "    4   0   0   0   1]\n",
      " [  0   3   0   0   0   0   0   1   1   0   0   0   1   3   6   0   0   0\n",
      "    0   0   0   0   8   1   0   0   0   1   2   0   0   0   1   0   0  63\n",
      "    0   2   0   0   0]\n",
      " [  0   1   3   0   4   1   0   8   1   0   0   4   4   0   0   0   0   0\n",
      "    0   0   0   0   0   1   0   0   0   0   0   0   0   2   0   0   5   0\n",
      "   61   0   0   0   0]\n",
      " [  0   9   0   1   2   0   6   0   5   0   0   1   0   0   7   0   0   0\n",
      "    0   0   0   2   8   7   0   0   0   6   1   0   0   0   0   1   0   0\n",
      "    0 106   4   1   0]\n",
      " [  1   3   1   0   1   0   3   2   1   0   1   0   0   0   1   0   0   0\n",
      "    0   9   0   4   4   6   0   0   0   0   0   0   0   0   0   0   0   0\n",
      "    0   4  41   0   0]\n",
      " [  0   0   4   0   3   0   0   4   2   1   0   3   4   1   0   0   0   0\n",
      "    0   0   0   0   0   0   0   0   0   0   0   0   1   1   0   0   0   0\n",
      "    0   1   0  42   0]\n",
      " [  1   0   0   1   0   0   0   0   0   0   0   0   0   0   2   0   0   0\n",
      "    0   2   0   0   0   0   1   0   0   0   0   0   0   0   0   0   1   0\n",
      "    0   1   0   0  31]]\n"
     ]
    }
   ],
   "source": [
    "#prints the entire confusion matrix\n",
    "#however, it doesnn't fit the entire row and loops around\n",
    "np.set_printoptions(threshold=sys.maxsize)\n",
    "resultCM = (confusion_matrix(y_test, y_pred))\n",
    "print(resultCM)"
   ]
  },
  {
   "cell_type": "code",
   "execution_count": 10,
   "metadata": {},
   "outputs": [
    {
     "name": "stdout",
     "output_type": "stream",
     "text": [
      "              precision    recall  f1-score   support\n",
      "\n",
      "           1       0.73      0.68      0.70        93\n",
      "           2       0.66      0.84      0.74       230\n",
      "           3       0.51      0.47      0.49       144\n",
      "           4       0.67      0.75      0.71        52\n",
      "           5       0.40      0.57      0.47        77\n",
      "           6       0.63      0.68      0.65       116\n",
      "           7       0.65      0.60      0.62       117\n",
      "           8       0.50      0.71      0.59       106\n",
      "           9       0.79      0.80      0.80       106\n",
      "          10       0.79      0.58      0.67        90\n",
      "          11       0.67      0.73      0.70        90\n",
      "          12       0.68      0.87      0.76        70\n",
      "          13       0.41      0.41      0.41        58\n",
      "          14       0.56      0.85      0.68       117\n",
      "          15       0.62      0.71      0.66       141\n",
      "          16       0.52      0.55      0.54        69\n",
      "          17       0.62      0.64      0.63       128\n",
      "          18       0.70      0.69      0.69        87\n",
      "          19       0.63      0.61      0.62        59\n",
      "          20       0.62      0.85      0.71        72\n",
      "          21       0.80      0.76      0.78       141\n",
      "          22       0.61      0.56      0.58        81\n",
      "          23       0.69      0.80      0.74       200\n",
      "          24       0.61      0.63      0.62        90\n",
      "          25       0.89      0.46      0.61       102\n",
      "          26       0.71      0.56      0.63        57\n",
      "          27       0.74      0.47      0.57       122\n",
      "          28       0.66      0.53      0.59       148\n",
      "          29       0.69      0.50      0.58        80\n",
      "          30       0.58      0.24      0.34        46\n",
      "          31       0.67      0.58      0.62        79\n",
      "          32       0.71      0.76      0.73        58\n",
      "          33       0.90      0.58      0.70       148\n",
      "          34       0.93      0.93      0.93       116\n",
      "          35       0.66      0.78      0.72       190\n",
      "          36       0.79      0.68      0.73        93\n",
      "          37       0.70      0.64      0.67        95\n",
      "          38       0.70      0.63      0.66       167\n",
      "          39       0.66      0.50      0.57        82\n",
      "          40       0.61      0.63      0.62        67\n",
      "          41       0.86      0.78      0.82        40\n",
      "\n",
      "    accuracy                           0.66      4224\n",
      "   macro avg       0.67      0.65      0.65      4224\n",
      "weighted avg       0.68      0.66      0.66      4224\n",
      "\n"
     ]
    }
   ],
   "source": [
    "resultCR = (classification_report(y_test, y_pred))\n",
    "print(resultCR)"
   ]
  }
 ],
 "metadata": {
  "kernelspec": {
   "display_name": "Python 3.7 (tensorflow)",
   "language": "python",
   "name": "tensorflow"
  },
  "language_info": {
   "codemirror_mode": {
    "name": "ipython",
    "version": 3
   },
   "file_extension": ".py",
   "mimetype": "text/x-python",
   "name": "python",
   "nbconvert_exporter": "python",
   "pygments_lexer": "ipython3",
   "version": "3.7.7"
  }
 },
 "nbformat": 4,
 "nbformat_minor": 4
}
