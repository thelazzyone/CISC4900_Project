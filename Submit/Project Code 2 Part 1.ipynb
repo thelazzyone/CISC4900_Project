{
 "cells": [
  {
   "cell_type": "code",
   "execution_count": 1,
   "metadata": {},
   "outputs": [
    {
     "name": "stdout",
     "output_type": "stream",
     "text": [
      "['CISC 4900 First Interim Report - Eddie Lam.pdf', 'DataSet_V4.csv', 'EditingDataset_V3.java', 'featMat.csv', 'featMatVersion2_10.csv', 'featMatVersion2_8.csv', 'featMatVersion2_9.csv', 'features', 'Old Code', 'Old dataset', 'Project Code 2 Part 1.ipynb', 'Project Code 2 Part 2.ipynb', 'Touchalytics-ProjectDef.pdf', 'ZeroTable.csv']\n"
     ]
    }
   ],
   "source": [
    "import numpy as np # linear algebra\n",
    "import pandas as pd # data processing, CSV file I/O (e.g. pd.read_csv)\n",
    "import tensorflow as tf\n",
    "\n",
    "import sys\n",
    "import os\n",
    "#this is how I import files\n",
    "#print(os.listdir(r\"C:\\Users\\eddie\\OneDrive\\Desktop\\CISC 4900\"))         #print out what's in the file/directory\n",
    "#train = pd.read_csv(r\"C:\\Users\\eddie\\OneDrive\\Desktop\\CISC 4900\\featMatVersion2_10.csv\")         #using test\n",
    "\n",
    "\n",
    "print(os.listdir(r\".\"))         #print out what's in the file/directory\n",
    "train = pd.read_csv(r\"featMatVersion2_10.csv\")"
   ]
  },
  {
   "cell_type": "code",
   "execution_count": null,
   "metadata": {},
   "outputs": [],
   "source": [
    "#print\n",
    "train.head()"
   ]
  },
  {
   "cell_type": "code",
   "execution_count": null,
   "metadata": {},
   "outputs": [],
   "source": [
    "#check to see if there is any 'NaN' in your dataset\n",
    "np.any(np.isnan(train))"
   ]
  },
  {
   "cell_type": "code",
   "execution_count": null,
   "metadata": {},
   "outputs": [],
   "source": [
    "#check to see if there is any 'Inf' in your dataset\n",
    "np.all(np.isfinite(train))"
   ]
  },
  {
   "cell_type": "code",
   "execution_count": null,
   "metadata": {},
   "outputs": [],
   "source": [
    "#print out the columns\n",
    "train.columns"
   ]
  },
  {
   "cell_type": "code",
   "execution_count": null,
   "metadata": {},
   "outputs": [],
   "source": [
    "#prints the amount of users in 'User_ID'\n",
    "train['User_ID'].value_counts()"
   ]
  },
  {
   "cell_type": "code",
   "execution_count": 2,
   "metadata": {},
   "outputs": [],
   "source": [
    "#Choosing the columns for X\n",
    "#Not using 'User_ID', 'Doc_ID', or 'Phone_ID'\n",
    "X = train[['Inter-Stroke time', 'Stroke Duration', 'Start X', 'Start Y', 'Stop X', 'Stop Y', 'Direct end-to-end Distance',\n",
    "        'Mean resulant length', 'WSAD Flag', 'Direction of end-to-end Time', '20 per pairwise velocity', \n",
    "        '50 per pairwise velocity', '80 per pairwise velocity', '20 per pairwise acc', '50 per pairwise acc', \n",
    "        '80 per pairwise acc', 'Median velocity at last 3pts', 'Largest deviation from end-to-end line', '20 per dev line',\n",
    "        '50 per dev line', '80 per dev line', 'Average Direction', 'Length of Trajectory', \n",
    "        'Ratio dist and length of trajectory', 'Average velocity', 'Median acceleration at first 5 pts',\n",
    "        'Mid-Stroke pressure', 'Mid-Stroke area covered', 'Mid-Stroke finger orientation', 'Change of finger orientation',\n",
    "        'Phone orientation']].values"
   ]
  },
  {
   "cell_type": "code",
   "execution_count": 3,
   "metadata": {},
   "outputs": [],
   "source": [
    "#Choosing the lables for y\n",
    "y = train['User_ID'].values"
   ]
  },
  {
   "cell_type": "code",
   "execution_count": 4,
   "metadata": {},
   "outputs": [],
   "source": [
    "#Train and test split\n",
    "#80% train, 20% test\n",
    "#splitting the data into test and train dataset\n",
    "\n",
    "from sklearn.model_selection import train_test_split\n",
    "X_train, X_test, y_train, y_test = train_test_split(X, y, test_size=0.20)"
   ]
  },
  {
   "cell_type": "code",
   "execution_count": 5,
   "metadata": {},
   "outputs": [],
   "source": [
    "#Feature Scaling\n",
    "from sklearn.preprocessing import StandardScaler\n",
    "scaler = StandardScaler()\n",
    "scaler.fit(X_train)\n",
    "\n",
    "X_train = scaler.transform(X_train)\n",
    "X_test = scaler.transform(X_test)"
   ]
  },
  {
   "cell_type": "code",
   "execution_count": 6,
   "metadata": {},
   "outputs": [
    {
     "data": {
      "text/plain": [
       "KNeighborsClassifier(algorithm='auto', leaf_size=30, metric='minkowski',\n",
       "                     metric_params=None, n_jobs=None, n_neighbors=5, p=2,\n",
       "                     weights='uniform')"
      ]
     },
     "execution_count": 6,
     "metadata": {},
     "output_type": "execute_result"
    }
   ],
   "source": [
    "#Training and Prediction\n",
    "from sklearn.neighbors import KNeighborsClassifier\n",
    "classifier = KNeighborsClassifier(n_neighbors=5)         #value for k\n",
    "classifier.fit(X_train, y_train)"
   ]
  },
  {
   "cell_type": "code",
   "execution_count": 7,
   "metadata": {},
   "outputs": [],
   "source": [
    "#Make prediction on the test data\n",
    "y_pred = classifier.predict(X_test)"
   ]
  },
  {
   "cell_type": "code",
   "execution_count": 8,
   "metadata": {
    "scrolled": true
   },
   "outputs": [
    {
     "name": "stdout",
     "output_type": "stream",
     "text": [
      "[[ 49   0   0 ...   0   0   0]\n",
      " [  1 210   0 ...   5   1   0]\n",
      " [  0   2  74 ...   0   0   0]\n",
      " ...\n",
      " [  0   2   0 ...  40   0   0]\n",
      " [  0   2   0 ...   0  30   0]\n",
      " [  1   1   0 ...   0   0  29]]\n",
      "              precision    recall  f1-score   support\n",
      "\n",
      "           1       0.62      0.68      0.65        72\n",
      "           2       0.71      0.87      0.78       241\n",
      "           3       0.52      0.48      0.50       154\n",
      "           4       0.65      0.68      0.66        62\n",
      "           5       0.42      0.54      0.47        81\n",
      "           6       0.55      0.66      0.60       112\n",
      "           7       0.58      0.49      0.53       126\n",
      "           8       0.45      0.65      0.53       109\n",
      "           9       0.67      0.79      0.73        77\n",
      "          10       0.81      0.65      0.72        85\n",
      "          11       0.62      0.75      0.68        84\n",
      "          12       0.70      0.78      0.74        76\n",
      "          13       0.49      0.47      0.48        60\n",
      "          14       0.63      0.84      0.72       132\n",
      "          15       0.72      0.66      0.69       161\n",
      "          16       0.49      0.48      0.48        77\n",
      "          17       0.58      0.70      0.63       138\n",
      "          18       0.79      0.65      0.71        96\n",
      "          19       0.50      0.57      0.53        46\n",
      "          20       0.56      0.62      0.59        66\n",
      "          21       0.72      0.72      0.72       123\n",
      "          22       0.64      0.65      0.65        83\n",
      "          23       0.68      0.80      0.74       194\n",
      "          24       0.77      0.64      0.70        90\n",
      "          25       0.81      0.55      0.66       109\n",
      "          26       0.73      0.56      0.64        39\n",
      "          27       0.78      0.48      0.59       142\n",
      "          28       0.58      0.56      0.57       124\n",
      "          29       0.74      0.67      0.70        96\n",
      "          30       0.65      0.46      0.54        48\n",
      "          31       0.62      0.63      0.63        63\n",
      "          32       0.72      0.81      0.76        64\n",
      "          33       0.84      0.61      0.71       143\n",
      "          34       0.85      0.89      0.87       125\n",
      "          35       0.70      0.71      0.70       222\n",
      "          36       0.79      0.65      0.72        95\n",
      "          37       0.67      0.52      0.59        82\n",
      "          38       0.78      0.65      0.71       158\n",
      "          39       0.49      0.51      0.50        79\n",
      "          40       0.67      0.50      0.57        60\n",
      "          41       0.81      0.76      0.78        38\n",
      "\n",
      "    accuracy                           0.66      4232\n",
      "   macro avg       0.66      0.64      0.65      4232\n",
      "weighted avg       0.67      0.66      0.66      4232\n",
      "\n"
     ]
    }
   ],
   "source": [
    "#Evaluating the Algorithm\n",
    "from sklearn.metrics import classification_report, confusion_matrix\n",
    "print(confusion_matrix(y_test, y_pred))\n",
    "print(classification_report(y_test, y_pred))"
   ]
  },
  {
   "cell_type": "code",
   "execution_count": 9,
   "metadata": {},
   "outputs": [
    {
     "name": "stdout",
     "output_type": "stream",
     "text": [
      "[[ 49   0   0   2   0   0   7   1   0   0   0   0   0   0   0   0   0   0\n",
      "    0   1   0   0   1   0   2   1   0   5   0   0   0   0   0   2   0   0\n",
      "    0   1   0   0   0]\n",
      " [  1 210   0   0   0   2   0   1   2   0   0   0   2   0   3   0   0   0\n",
      "    0   1   0   0   6   0   0   1   0   3   1   0   0   0   0   0   1   0\n",
      "    0   1   5   1   0]\n",
      " [  0   2  74   1   6   7   0   3   2   3   2   3   1   1   0   3  20   1\n",
      "    4   0   3   0   0   1   0   0   3   0   0   0   0   3   0   0  11   0\n",
      "    0   0   0   0   0]\n",
      " [  2   0   0  42   2   0   1   1   0   0   0   0   0   1   0   0   0   0\n",
      "    0   0   0   0   0   2   0   0   0   2   0   4   0   0   0   3   0   0\n",
      "    0   1   0   0   1]\n",
      " [  0   2   7   0  44   1   0   6   6   0   0   1   0   1   0   1   0   0\n",
      "    4   0   0   0   2   0   0   0   1   0   0   0   1   2   0   0   0   0\n",
      "    2   0   0   0   0]\n",
      " [  0   2   4   0   1  74   0   6   0   0   2   0   5   0   0   2   4   1\n",
      "    2   0   1   0   0   0   0   0   2   0   0   0   0   0   0   0   4   0\n",
      "    0   1   0   1   0]\n",
      " [ 11  12   1   3   0   0  62   0   0   0   0   0   1   0   3   0   0   0\n",
      "    0   0   0  10   1   0   0   2   0   9   0   2   0   1   0   2   0   0\n",
      "    0   3   3   0   0]\n",
      " [  0   2   2   0   5   3   1  71   1   1   0   1   3   0   0   1   2   0\n",
      "    2   0   0   0   2   0   0   0   0   0   0   0   0   1   1   0   1   1\n",
      "    3   0   1   4   0]\n",
      " [  0   1   2   0   2   1   0   1  61   0   1   0   1   0   0   0   0   0\n",
      "    0   0   0   0   2   1   0   0   1   0   1   0   0   0   0   0   0   1\n",
      "    0   0   0   1   0]\n",
      " [  0   0   5   0   0   2   0   1   0  55   4   0   0   1   1   2   2   1\n",
      "    3   0   3   0   0   0   0   0   0   0   0   0   0   1   0   0   4   0\n",
      "    0   0   0   0   0]\n",
      " [  0   0   1   0   0   5   0   3   0   3  63   0   1   0   0   0   0   3\n",
      "    1   0   1   0   0   0   0   0   1   1   0   0   0   0   0   0   1   0\n",
      "    0   0   0   0   0]\n",
      " [  0   1   0   0   3   0   0   4   0   0   1  59   0   0   0   0   0   0\n",
      "    0   0   0   0   0   0   0   0   1   0   0   0   1   0   0   0   2   0\n",
      "    2   0   1   1   0]\n",
      " [  0   0   1   0   2   1   0  10   1   0   2   2  28   0   0   2   4   0\n",
      "    0   0   0   0   0   1   1   0   0   2   0   0   0   0   0   0   1   0\n",
      "    1   0   1   0   0]\n",
      " [  0   0   0   0   0   1   0   1   0   0   0   0   0 111   1   0   0   0\n",
      "    1   0   0   0   4   0   0   0   0   0   7   0   5   0   0   0   0   0\n",
      "    0   0   1   0   0]\n",
      " [  1   2   2   0   0   0   1   4   0   0   0   0   1  10 106   0   0   0\n",
      "    0   0   0   1  18   1   0   0   0   2   0   0   3   0   4   0   0   3\n",
      "    0   0   2   0   0]\n",
      " [  0   0   5   0   2   5   0   1   1   0   4   2   2   1   0  37   5   1\n",
      "    2   0   3   0   0   0   0   0   1   0   0   0   0   1   0   0   4   0\n",
      "    0   0   0   0   0]\n",
      " [  0   0   4   0   3   1   0   8   0   1   3   0   1   0   0   2  97   0\n",
      "    0   0   1   0   0   0   0   0   1   0   0   0   0   1   1   0  12   0\n",
      "    1   0   0   1   0]\n",
      " [  0   0   3   0   1   2   0   0   1   1   2   0   0   0   0   5   7  62\n",
      "    2   0   5   0   0   0   0   0   0   0   0   0   0   0   0   0   4   0\n",
      "    0   0   0   1   0]\n",
      " [  1   0   1   0   5   0   0   4   1   1   2   0   0   0   0   1   1   0\n",
      "   26   1   0   0   0   0   0   0   0   0   0   0   0   0   0   0   1   0\n",
      "    0   0   0   1   0]\n",
      " [  0   4   0   0   0   1   3   1   0   0   0   0   1   0   1   0   0   0\n",
      "    0  41   0   3   1   1   1   0   0   1   0   1   0   0   1   0   0   0\n",
      "    0   1   3   0   1]\n",
      " [  1   0   3   0   0   0   0   1   1   0   4   2   0   0   1   1   5   3\n",
      "    0   0  88   0   0   0   0   0   2   0   0   0   0   2   0   0   7   0\n",
      "    2   0   0   0   0]\n",
      " [  2   2   0   0   0   0   5   1   0   0   1   1   0   0   0   0   0   0\n",
      "    0   5   0  54   0   0   1   0   0   4   0   0   0   0   1   1   0   0\n",
      "    2   1   2   0   0]\n",
      " [  1   4   0   1   1   0   0   0   1   0   0   0   0   5  17   0   0   0\n",
      "    0   0   0   1 156   0   1   0   0   0   0   0   0   0   0   0   0   2\n",
      "    1   0   2   1   0]\n",
      " [  1   4   0   0   1   0   2   1   0   0   0   1   0   0   0   2   0   1\n",
      "    0   1   0   0   7  58   0   0   0   3   0   0   0   0   1   2   1   0\n",
      "    0   3   1   0   0]\n",
      " [  0  10   1   3   3   2   0   1   1   0   0   1   0   0   0   0   0   0\n",
      "    0  10   1   1   0   0  60   1   0   3   0   1   0   1   0   1   2   0\n",
      "    0   3   2   0   1]\n",
      " [  0   0   0   1   0   0   2   0   0   0   0   0   0   0   1   0   0   1\n",
      "    0   0   0   0   0   1   0  22   0   2   0   2   0   0   0   0   0   0\n",
      "    2   4   1   0   0]\n",
      " [  0   1  13   0   5  12   0   4   1   1   3   0   1   0   0   7   6   1\n",
      "    0   0   5   0   1   0   0   0  68   1   0   0   0   5   0   0   7   0\n",
      "    0   0   0   0   0]\n",
      " [  3  15   0   1   1   1   6   2   0   0   1   0   1   0   2   0   0   0\n",
      "    1   4   0   2   1   0   3   0   0  70   0   0   0   0   0   1   1   1\n",
      "    0   0   6   0   1]\n",
      " [  0   1   0   0   4   0   0   2   1   0   0   0   0   9   1   0   0   0\n",
      "    0   0   0   0   3   0   0   0   0   0  64   0   4   0   1   0   0   6\n",
      "    0   0   0   0   0]\n",
      " [  1   3   0   5   0   0   4   1   0   0   0   0   0   0   0   1   0   0\n",
      "    0   1   0   3   0   1   1   2   0   1   0  22   0   0   0   1   0   0\n",
      "    0   0   1   0   0]\n",
      " [  0   0   1   1   0   0   0   0   0   0   0   0   0  13   1   0   0   0\n",
      "    0   0   0   0   3   0   0   0   0   0   3   0  40   0   1   0   0   0\n",
      "    0   0   0   0   0]\n",
      " [  0   0   0   0   1   1   0   1   1   0   0   2   0   0   0   0   3   0\n",
      "    0   0   1   0   0   0   0   0   1   0   0   0   0  52   0   0   0   0\n",
      "    1   0   0   0   0]\n",
      " [  1   1   0   1   2   1   1   2   0   0   0   0   0  17   2   0   0   0\n",
      "    0   0   0   1   3   0   1   0   0   0   9   0   9   0  87   0   0   2\n",
      "    0   1   1   0   1]\n",
      " [  1   2   1   1   0   0   0   0   0   0   0   0   0   0   0   1   0   0\n",
      "    0   0   0   0   0   2   0   0   0   2   0   0   0   0   0 111   0   0\n",
      "    0   3   0   0   1]\n",
      " [  0   0   5   0   0   3   1   2   1   1   5   2   1   1   0   7  10   3\n",
      "    2   0  10   1   0   1   0   0   5   0   0   0   0   0   1   0 158   0\n",
      "    1   0   0   0   1]\n",
      " [  0   2   0   1   1   0   0   0   3   0   0   0   1   5   5   0   0   0\n",
      "    1   0   0   0   7   0   0   0   0   1   1   0   0   0   2   0   0  62\n",
      "    1   1   1   0   0]\n",
      " [  0   0   5   0   4   4   2   5   0   0   1   4   4   0   0   1   1   0\n",
      "    1   0   0   0   0   0   0   0   0   0   0   0   0   2   0   0   3   0\n",
      "   43   0   0   2   0]\n",
      " [  2   8   0   0   1   0   1   0   2   0   0   0   0   0   0   0   0   0\n",
      "    0   1   0   3   9   4   2   1   0   7   0   0   0   0   0   5   0   0\n",
      "    1 102   8   1   0]\n",
      " [  0   2   0   0   0   1   8   1   0   0   0   0   1   0   2   0   1   0\n",
      "    0   4   0   4   3   1   0   0   0   1   0   2   1   0   1   1   1   0\n",
      "    0   4  40   0   0]\n",
      " [  0   2   0   1   5   3   0   7   3   1   0   3   1   1   0   0   0   0\n",
      "    0   0   0   0   0   0   0   0   0   0   0   0   0   0   0   0   1   0\n",
      "    1   1   0  30   0]\n",
      " [  1   1   0   1   1   0   0   0   0   0   0   0   0   0   0   0   0   0\n",
      "    0   3   0   0   0   0   1   0   0   0   0   0   0   0   1   0   0   0\n",
      "    0   0   0   0  29]]\n"
     ]
    }
   ],
   "source": [
    "#prints the entire confusion matrix\n",
    "#however, it doesnn't fit the entire row and loops around\n",
    "np.set_printoptions(threshold=sys.maxsize)\n",
    "resultCM = (confusion_matrix(y_test, y_pred))\n",
    "print(resultCM)"
   ]
  },
  {
   "cell_type": "code",
   "execution_count": 10,
   "metadata": {
    "collapsed": true
   },
   "outputs": [
    {
     "name": "stdout",
     "output_type": "stream",
     "text": [
      "              precision    recall  f1-score   support\n",
      "\n",
      "           1       0.62      0.68      0.65        72\n",
      "           2       0.71      0.87      0.78       241\n",
      "           3       0.52      0.48      0.50       154\n",
      "           4       0.65      0.68      0.66        62\n",
      "           5       0.42      0.54      0.47        81\n",
      "           6       0.55      0.66      0.60       112\n",
      "           7       0.58      0.49      0.53       126\n",
      "           8       0.45      0.65      0.53       109\n",
      "           9       0.67      0.79      0.73        77\n",
      "          10       0.81      0.65      0.72        85\n",
      "          11       0.62      0.75      0.68        84\n",
      "          12       0.70      0.78      0.74        76\n",
      "          13       0.49      0.47      0.48        60\n",
      "          14       0.63      0.84      0.72       132\n",
      "          15       0.72      0.66      0.69       161\n",
      "          16       0.49      0.48      0.48        77\n",
      "          17       0.58      0.70      0.63       138\n",
      "          18       0.79      0.65      0.71        96\n",
      "          19       0.50      0.57      0.53        46\n",
      "          20       0.56      0.62      0.59        66\n",
      "          21       0.72      0.72      0.72       123\n",
      "          22       0.64      0.65      0.65        83\n",
      "          23       0.68      0.80      0.74       194\n",
      "          24       0.77      0.64      0.70        90\n",
      "          25       0.81      0.55      0.66       109\n",
      "          26       0.73      0.56      0.64        39\n",
      "          27       0.78      0.48      0.59       142\n",
      "          28       0.58      0.56      0.57       124\n",
      "          29       0.74      0.67      0.70        96\n",
      "          30       0.65      0.46      0.54        48\n",
      "          31       0.62      0.63      0.63        63\n",
      "          32       0.72      0.81      0.76        64\n",
      "          33       0.84      0.61      0.71       143\n",
      "          34       0.85      0.89      0.87       125\n",
      "          35       0.70      0.71      0.70       222\n",
      "          36       0.79      0.65      0.72        95\n",
      "          37       0.67      0.52      0.59        82\n",
      "          38       0.78      0.65      0.71       158\n",
      "          39       0.49      0.51      0.50        79\n",
      "          40       0.67      0.50      0.57        60\n",
      "          41       0.81      0.76      0.78        38\n",
      "\n",
      "    accuracy                           0.66      4232\n",
      "   macro avg       0.66      0.64      0.65      4232\n",
      "weighted avg       0.67      0.66      0.66      4232\n",
      "\n"
     ]
    }
   ],
   "source": [
    "resultCR = (classification_report(y_test, y_pred))\n",
    "print(resultCR)"
   ]
  }
 ],
 "metadata": {
  "kernelspec": {
   "display_name": "Python 3.7 (tensorflow)",
   "language": "python",
   "name": "tensorflow"
  },
  "language_info": {
   "codemirror_mode": {
    "name": "ipython",
    "version": 3
   },
   "file_extension": ".py",
   "mimetype": "text/x-python",
   "name": "python",
   "nbconvert_exporter": "python",
   "pygments_lexer": "ipython3",
   "version": "3.7.7"
  }
 },
 "nbformat": 4,
 "nbformat_minor": 4
}
